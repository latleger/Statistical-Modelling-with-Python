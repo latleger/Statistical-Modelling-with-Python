{
 "cells": [
  {
   "cell_type": "markdown",
   "metadata": {},
   "source": [
    "Build a regression model."
   ]
  },
  {
   "cell_type": "code",
   "execution_count": 1,
   "metadata": {
    "tags": []
   },
   "outputs": [],
   "source": [
    "# import\n",
    "import pandas as pd\n",
    "import matplotlib.pyplot as plt\n",
    "import seaborn as sns\n",
    "import statsmodels.api as sm"
   ]
  },
  {
   "cell_type": "code",
   "execution_count": 2,
   "metadata": {
    "tags": []
   },
   "outputs": [],
   "source": [
    "data = pd.read_csv('final_df.csv')"
   ]
  },
  {
   "cell_type": "code",
   "execution_count": 21,
   "metadata": {
    "tags": []
   },
   "outputs": [
    {
     "data": {
      "text/html": [
       "<div>\n",
       "<style scoped>\n",
       "    .dataframe tbody tr th:only-of-type {\n",
       "        vertical-align: middle;\n",
       "    }\n",
       "\n",
       "    .dataframe tbody tr th {\n",
       "        vertical-align: top;\n",
       "    }\n",
       "\n",
       "    .dataframe thead th {\n",
       "        text-align: right;\n",
       "    }\n",
       "</style>\n",
       "<table border=\"1\" class=\"dataframe\">\n",
       "  <thead>\n",
       "    <tr style=\"text-align: right;\">\n",
       "      <th></th>\n",
       "      <th>station_id</th>\n",
       "      <th>Latitude</th>\n",
       "      <th>Longitude</th>\n",
       "      <th>Num_of_Slots</th>\n",
       "      <th>fsq_id</th>\n",
       "      <th>fsq_lat</th>\n",
       "      <th>fsq_long</th>\n",
       "      <th>id</th>\n",
       "      <th>name</th>\n",
       "      <th>popularity</th>\n",
       "      <th>rating</th>\n",
       "      <th>address</th>\n",
       "    </tr>\n",
       "  </thead>\n",
       "  <tbody>\n",
       "    <tr>\n",
       "      <th>0</th>\n",
       "      <td>13021bba7bbeca1ccd8726ca17da59e6</td>\n",
       "      <td>49.25094</td>\n",
       "      <td>-123.101306</td>\n",
       "      <td>14</td>\n",
       "      <td>51b201d27dd249ae714ba728</td>\n",
       "      <td>49.263877</td>\n",
       "      <td>-123.105307</td>\n",
       "      <td>13003.0</td>\n",
       "      <td>Bar</td>\n",
       "      <td>0.945327</td>\n",
       "      <td>9.3</td>\n",
       "      <td>15 8th Ave W (btwn Manitoba &amp; Ontario), Vancou...</td>\n",
       "    </tr>\n",
       "    <tr>\n",
       "      <th>1</th>\n",
       "      <td>13021bba7bbeca1ccd8726ca17da59e6</td>\n",
       "      <td>49.25094</td>\n",
       "      <td>-123.101306</td>\n",
       "      <td>14</td>\n",
       "      <td>4c0b1f677e3fc928cdebf482</td>\n",
       "      <td>49.295623</td>\n",
       "      <td>-123.150768</td>\n",
       "      <td>16003.0</td>\n",
       "      <td>Beach</td>\n",
       "      <td>0.989325</td>\n",
       "      <td>9.1</td>\n",
       "      <td>8501 Stanley Park Dr (at N Lagoon Dr), Vancouv...</td>\n",
       "    </tr>\n",
       "    <tr>\n",
       "      <th>2</th>\n",
       "      <td>13021bba7bbeca1ccd8726ca17da59e6</td>\n",
       "      <td>49.25094</td>\n",
       "      <td>-123.101306</td>\n",
       "      <td>14</td>\n",
       "      <td>50d4bd11e4b0b55bb4b657a3</td>\n",
       "      <td>49.266477</td>\n",
       "      <td>-123.140728</td>\n",
       "      <td>13002.0</td>\n",
       "      <td>Bakery</td>\n",
       "      <td>0.965011</td>\n",
       "      <td>9.0</td>\n",
       "      <td>2150 Fir St (at W 6th Ave), Vancouver BC V6J 3B5</td>\n",
       "    </tr>\n",
       "    <tr>\n",
       "      <th>3</th>\n",
       "      <td>13021bba7bbeca1ccd8726ca17da59e6</td>\n",
       "      <td>49.25094</td>\n",
       "      <td>-123.101306</td>\n",
       "      <td>14</td>\n",
       "      <td>4b77ba28f964a52064a82ee3</td>\n",
       "      <td>49.279619</td>\n",
       "      <td>-123.101293</td>\n",
       "      <td>13009.0</td>\n",
       "      <td>Cocktail Bar</td>\n",
       "      <td>0.971802</td>\n",
       "      <td>9.0</td>\n",
       "      <td>135 Keefer St (btwn Columbia &amp; Main), Vancouve...</td>\n",
       "    </tr>\n",
       "    <tr>\n",
       "      <th>4</th>\n",
       "      <td>13021bba7bbeca1ccd8726ca17da59e6</td>\n",
       "      <td>49.25094</td>\n",
       "      <td>-123.101306</td>\n",
       "      <td>14</td>\n",
       "      <td>4bf046d53a002d7fb4eb85a4</td>\n",
       "      <td>49.295495</td>\n",
       "      <td>-123.150919</td>\n",
       "      <td>18075.0</td>\n",
       "      <td>Swimming Pool</td>\n",
       "      <td>0.927823</td>\n",
       "      <td>8.9</td>\n",
       "      <td>8501 Stanley Park Dr (at N Lagoon Dr), Vancouv...</td>\n",
       "    </tr>\n",
       "  </tbody>\n",
       "</table>\n",
       "</div>"
      ],
      "text/plain": [
       "                         station_id  Latitude   Longitude  Num_of_Slots  \\\n",
       "0  13021bba7bbeca1ccd8726ca17da59e6  49.25094 -123.101306            14   \n",
       "1  13021bba7bbeca1ccd8726ca17da59e6  49.25094 -123.101306            14   \n",
       "2  13021bba7bbeca1ccd8726ca17da59e6  49.25094 -123.101306            14   \n",
       "3  13021bba7bbeca1ccd8726ca17da59e6  49.25094 -123.101306            14   \n",
       "4  13021bba7bbeca1ccd8726ca17da59e6  49.25094 -123.101306            14   \n",
       "\n",
       "                     fsq_id    fsq_lat    fsq_long       id           name  \\\n",
       "0  51b201d27dd249ae714ba728  49.263877 -123.105307  13003.0            Bar   \n",
       "1  4c0b1f677e3fc928cdebf482  49.295623 -123.150768  16003.0          Beach   \n",
       "2  50d4bd11e4b0b55bb4b657a3  49.266477 -123.140728  13002.0         Bakery   \n",
       "3  4b77ba28f964a52064a82ee3  49.279619 -123.101293  13009.0   Cocktail Bar   \n",
       "4  4bf046d53a002d7fb4eb85a4  49.295495 -123.150919  18075.0  Swimming Pool   \n",
       "\n",
       "   popularity  rating                                            address  \n",
       "0    0.945327     9.3  15 8th Ave W (btwn Manitoba & Ontario), Vancou...  \n",
       "1    0.989325     9.1  8501 Stanley Park Dr (at N Lagoon Dr), Vancouv...  \n",
       "2    0.965011     9.0   2150 Fir St (at W 6th Ave), Vancouver BC V6J 3B5  \n",
       "3    0.971802     9.0  135 Keefer St (btwn Columbia & Main), Vancouve...  \n",
       "4    0.927823     8.9  8501 Stanley Park Dr (at N Lagoon Dr), Vancouv...  "
      ]
     },
     "execution_count": 21,
     "metadata": {},
     "output_type": "execute_result"
    }
   ],
   "source": [
    "data.head()"
   ]
  },
  {
   "cell_type": "code",
   "execution_count": 24,
   "metadata": {
    "tags": []
   },
   "outputs": [
    {
     "data": {
      "text/html": [
       "<div>\n",
       "<style scoped>\n",
       "    .dataframe tbody tr th:only-of-type {\n",
       "        vertical-align: middle;\n",
       "    }\n",
       "\n",
       "    .dataframe tbody tr th {\n",
       "        vertical-align: top;\n",
       "    }\n",
       "\n",
       "    .dataframe thead th {\n",
       "        text-align: right;\n",
       "    }\n",
       "</style>\n",
       "<table border=\"1\" class=\"dataframe\">\n",
       "  <thead>\n",
       "    <tr style=\"text-align: right;\">\n",
       "      <th></th>\n",
       "      <th>station_id</th>\n",
       "      <th>Latitude</th>\n",
       "      <th>Longitude</th>\n",
       "      <th>Num_of_Slots</th>\n",
       "      <th>fsq_id</th>\n",
       "      <th>fsq_lat</th>\n",
       "      <th>fsq_long</th>\n",
       "      <th>id</th>\n",
       "      <th>name</th>\n",
       "      <th>popularity</th>\n",
       "      <th>rating</th>\n",
       "      <th>address</th>\n",
       "    </tr>\n",
       "  </thead>\n",
       "  <tbody>\n",
       "    <tr>\n",
       "      <th>0</th>\n",
       "      <td>13021bba7bbeca1ccd8726ca17da59e6</td>\n",
       "      <td>49.25094</td>\n",
       "      <td>-123.101306</td>\n",
       "      <td>14</td>\n",
       "      <td>51b201d27dd249ae714ba728</td>\n",
       "      <td>49.263877</td>\n",
       "      <td>-123.105307</td>\n",
       "      <td>13003.0</td>\n",
       "      <td>Bar</td>\n",
       "      <td>0.945327</td>\n",
       "      <td>9.3</td>\n",
       "      <td>15 8th Ave W (btwn Manitoba &amp; Ontario), Vancou...</td>\n",
       "    </tr>\n",
       "    <tr>\n",
       "      <th>1</th>\n",
       "      <td>13021bba7bbeca1ccd8726ca17da59e6</td>\n",
       "      <td>49.25094</td>\n",
       "      <td>-123.101306</td>\n",
       "      <td>14</td>\n",
       "      <td>4c0b1f677e3fc928cdebf482</td>\n",
       "      <td>49.295623</td>\n",
       "      <td>-123.150768</td>\n",
       "      <td>16003.0</td>\n",
       "      <td>Beach</td>\n",
       "      <td>0.989325</td>\n",
       "      <td>9.1</td>\n",
       "      <td>8501 Stanley Park Dr (at N Lagoon Dr), Vancouv...</td>\n",
       "    </tr>\n",
       "    <tr>\n",
       "      <th>2</th>\n",
       "      <td>13021bba7bbeca1ccd8726ca17da59e6</td>\n",
       "      <td>49.25094</td>\n",
       "      <td>-123.101306</td>\n",
       "      <td>14</td>\n",
       "      <td>50d4bd11e4b0b55bb4b657a3</td>\n",
       "      <td>49.266477</td>\n",
       "      <td>-123.140728</td>\n",
       "      <td>13002.0</td>\n",
       "      <td>Bakery</td>\n",
       "      <td>0.965011</td>\n",
       "      <td>9.0</td>\n",
       "      <td>2150 Fir St (at W 6th Ave), Vancouver BC V6J 3B5</td>\n",
       "    </tr>\n",
       "    <tr>\n",
       "      <th>3</th>\n",
       "      <td>13021bba7bbeca1ccd8726ca17da59e6</td>\n",
       "      <td>49.25094</td>\n",
       "      <td>-123.101306</td>\n",
       "      <td>14</td>\n",
       "      <td>4b77ba28f964a52064a82ee3</td>\n",
       "      <td>49.279619</td>\n",
       "      <td>-123.101293</td>\n",
       "      <td>13009.0</td>\n",
       "      <td>Cocktail Bar</td>\n",
       "      <td>0.971802</td>\n",
       "      <td>9.0</td>\n",
       "      <td>135 Keefer St (btwn Columbia &amp; Main), Vancouve...</td>\n",
       "    </tr>\n",
       "    <tr>\n",
       "      <th>4</th>\n",
       "      <td>13021bba7bbeca1ccd8726ca17da59e6</td>\n",
       "      <td>49.25094</td>\n",
       "      <td>-123.101306</td>\n",
       "      <td>14</td>\n",
       "      <td>4bf046d53a002d7fb4eb85a4</td>\n",
       "      <td>49.295495</td>\n",
       "      <td>-123.150919</td>\n",
       "      <td>18075.0</td>\n",
       "      <td>Swimming Pool</td>\n",
       "      <td>0.927823</td>\n",
       "      <td>8.9</td>\n",
       "      <td>8501 Stanley Park Dr (at N Lagoon Dr), Vancouv...</td>\n",
       "    </tr>\n",
       "  </tbody>\n",
       "</table>\n",
       "</div>"
      ],
      "text/plain": [
       "                         station_id  Latitude   Longitude  Num_of_Slots  \\\n",
       "0  13021bba7bbeca1ccd8726ca17da59e6  49.25094 -123.101306            14   \n",
       "1  13021bba7bbeca1ccd8726ca17da59e6  49.25094 -123.101306            14   \n",
       "2  13021bba7bbeca1ccd8726ca17da59e6  49.25094 -123.101306            14   \n",
       "3  13021bba7bbeca1ccd8726ca17da59e6  49.25094 -123.101306            14   \n",
       "4  13021bba7bbeca1ccd8726ca17da59e6  49.25094 -123.101306            14   \n",
       "\n",
       "                     fsq_id    fsq_lat    fsq_long       id           name  \\\n",
       "0  51b201d27dd249ae714ba728  49.263877 -123.105307  13003.0            Bar   \n",
       "1  4c0b1f677e3fc928cdebf482  49.295623 -123.150768  16003.0          Beach   \n",
       "2  50d4bd11e4b0b55bb4b657a3  49.266477 -123.140728  13002.0         Bakery   \n",
       "3  4b77ba28f964a52064a82ee3  49.279619 -123.101293  13009.0   Cocktail Bar   \n",
       "4  4bf046d53a002d7fb4eb85a4  49.295495 -123.150919  18075.0  Swimming Pool   \n",
       "\n",
       "   popularity  rating                                            address  \n",
       "0    0.945327     9.3  15 8th Ave W (btwn Manitoba & Ontario), Vancou...  \n",
       "1    0.989325     9.1  8501 Stanley Park Dr (at N Lagoon Dr), Vancouv...  \n",
       "2    0.965011     9.0   2150 Fir St (at W 6th Ave), Vancouver BC V6J 3B5  \n",
       "3    0.971802     9.0  135 Keefer St (btwn Columbia & Main), Vancouve...  \n",
       "4    0.927823     8.9  8501 Stanley Park Dr (at N Lagoon Dr), Vancouv...  "
      ]
     },
     "execution_count": 24,
     "metadata": {},
     "output_type": "execute_result"
    }
   ],
   "source": [
    "# Drop rows with missing values in x and y variables\n",
    "data_cleaned = data.dropna(subset=['rating', 'id'])\n",
    "data_cleaned.head()"
   ]
  },
  {
   "cell_type": "code",
   "execution_count": 30,
   "metadata": {
    "tags": []
   },
   "outputs": [],
   "source": [
    "# Set independent variable, x\n",
    "x = data_cleaned['Num_of_Slots']\n",
    "\n",
    "# Set dependent variable, y\n",
    "y = data_cleaned['rating']\n",
    "\n",
    "# add a constant\n",
    "x = sm.add_constant(x) \n",
    "\n",
    "# Set linear regression model\n",
    "lin_reg = sm.OLS(y, x)\n"
   ]
  },
  {
   "cell_type": "code",
   "execution_count": 31,
   "metadata": {
    "tags": []
   },
   "outputs": [
    {
     "name": "stdout",
     "output_type": "stream",
     "text": [
      "                            OLS Regression Results                            \n",
      "==============================================================================\n",
      "Dep. Variable:                 rating   R-squared:                       0.000\n",
      "Model:                            OLS   Adj. R-squared:                  0.000\n",
      "Method:                 Least Squares   F-statistic:                       nan\n",
      "Date:                Sun, 02 Jul 2023   Prob (F-statistic):                nan\n",
      "Time:                        22:31:06   Log-Likelihood:                -244.40\n",
      "No. Observations:                 182   AIC:                             490.8\n",
      "Df Residuals:                     181   BIC:                             494.0\n",
      "Df Model:                           0                                         \n",
      "Covariance Type:            nonrobust                                         \n",
      "================================================================================\n",
      "                   coef    std err          t      P>|t|      [0.025      0.975]\n",
      "--------------------------------------------------------------------------------\n",
      "Num_of_Slots     0.5297      0.005    107.648      0.000       0.520       0.539\n",
      "==============================================================================\n",
      "Omnibus:                       10.875   Durbin-Watson:                   0.003\n",
      "Prob(Omnibus):                  0.004   Jarque-Bera (JB):                5.492\n",
      "Skew:                          -0.207   Prob(JB):                       0.0642\n",
      "Kurtosis:                       2.256   Cond. No.                         1.00\n",
      "==============================================================================\n",
      "\n",
      "Notes:\n",
      "[1] Standard Errors assume that the covariance matrix of the errors is correctly specified.\n"
     ]
    }
   ],
   "source": [
    "model = lin_reg.fit()\n",
    "print_model = model.summary()\n",
    "print(print_model)"
   ]
  },
  {
   "cell_type": "code",
   "execution_count": null,
   "metadata": {},
   "outputs": [],
   "source": []
  },
  {
   "cell_type": "markdown",
   "metadata": {},
   "source": [
    "Provide model output and an interpretation of the results. "
   ]
  },
  {
   "cell_type": "code",
   "execution_count": 32,
   "metadata": {
    "tags": []
   },
   "outputs": [
    {
     "name": "stdout",
     "output_type": "stream",
     "text": [
      "                            OLS Regression Results                            \n",
      "==============================================================================\n",
      "Dep. Variable:                 rating   R-squared:                       0.000\n",
      "Model:                            OLS   Adj. R-squared:                  0.000\n",
      "Method:                 Least Squares   F-statistic:                       nan\n",
      "Date:                Sun, 02 Jul 2023   Prob (F-statistic):                nan\n",
      "Time:                        22:31:06   Log-Likelihood:                -244.40\n",
      "No. Observations:                 182   AIC:                             490.8\n",
      "Df Residuals:                     181   BIC:                             494.0\n",
      "Df Model:                           0                                         \n",
      "Covariance Type:            nonrobust                                         \n",
      "================================================================================\n",
      "                   coef    std err          t      P>|t|      [0.025      0.975]\n",
      "--------------------------------------------------------------------------------\n",
      "Num_of_Slots     0.5297      0.005    107.648      0.000       0.520       0.539\n",
      "==============================================================================\n",
      "Omnibus:                       10.875   Durbin-Watson:                   0.003\n",
      "Prob(Omnibus):                  0.004   Jarque-Bera (JB):                5.492\n",
      "Skew:                          -0.207   Prob(JB):                       0.0642\n",
      "Kurtosis:                       2.256   Cond. No.                         1.00\n",
      "==============================================================================\n",
      "\n",
      "Notes:\n",
      "[1] Standard Errors assume that the covariance matrix of the errors is correctly specified.\n"
     ]
    }
   ],
   "source": [
    "print(print_model)"
   ]
  },
  {
   "cell_type": "markdown",
   "metadata": {},
   "source": [
    "The results of the OLS regression analysis indicate that only the variable Num_of_Slots is considered in the model. The R-squared value of 0.000 suggests that the independent variable(s) do not explain any variation in the rating. The adjusted R-squared value is also 0.000. The F-statistic, which tests the overall significance of the regression model, is undefined in this case.\n",
    "\n",
    "The coefficient table shows that for each unit increase in Num_of_Slots, we expect a 0.5297 change in the rating. However, specific information such as the standard error, confidence intervals, and p-values for Num_of_Slots is not provided in the output. This limits our ability to find meaningful conclusions from the regression analysis."
   ]
  },
  {
   "cell_type": "markdown",
   "metadata": {},
   "source": [
    "# Stretch"
   ]
  },
  {
   "cell_type": "markdown",
   "metadata": {},
   "source": [
    "How can you turn the regression model into a classification model?"
   ]
  },
  {
   "cell_type": "markdown",
   "metadata": {},
   "source": [
    "To convert a regression model into a classification model, set cutoff points or categories for predicted values. Choose the best method for your data and problem. Evaluate performance using metrics like accuracy, precision, recall, and F1-score. Adjust the approach based on specific needs."
   ]
  }
 ],
 "metadata": {
  "kernelspec": {
   "display_name": "Python 3 (ipykernel)",
   "language": "python",
   "name": "python3"
  },
  "language_info": {
   "codemirror_mode": {
    "name": "ipython",
    "version": 3
   },
   "file_extension": ".py",
   "mimetype": "text/x-python",
   "name": "python",
   "nbconvert_exporter": "python",
   "pygments_lexer": "ipython3",
   "version": "3.10.9"
  }
 },
 "nbformat": 4,
 "nbformat_minor": 4
}
